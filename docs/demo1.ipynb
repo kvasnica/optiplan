{
 "cells": [
  {
   "cell_type": "markdown",
   "metadata": {},
   "source": [
    "# Linear agent, no obstacles, trajectory following"
   ]
  },
  {
   "cell_type": "markdown",
   "metadata": {},
   "source": [
    "## The agent"
   ]
  },
  {
   "cell_type": "markdown",
   "metadata": {},
   "source": [
    "First we load a demo agent:"
   ]
  },
  {
   "cell_type": "code",
   "execution_count": 1,
   "metadata": {
    "collapsed": false
   },
   "outputs": [
    {
     "name": "stderr",
     "output_type": "stream",
     "text": [
      "\u001b[0;31mUndefined variable \"optiplan\" or class \"optiplan.LinearAgent.demo2D\".\n",
      "\u001b[0m"
     ]
    }
   ],
   "source": [
    "N = 10;     % prediction horizon\n",
    "Ts = 0.25;  % sampling time\n",
    "agent = optiplan.LinearAgent.demo2D('PredictionHorizon', N, 'SamplingTime', Ts)"
   ]
  },
  {
   "cell_type": "markdown",
   "metadata": {},
   "source": [
    "Tell the agent that the position reference should be treated as a time-varying parameter:"
   ]
  },
  {
   "cell_type": "code",
   "execution_count": 2,
   "metadata": {
    "collapsed": false
   },
   "outputs": [],
   "source": [
    "agent.Y.Reference = 'parameter';"
   ]
  },
  {
   "cell_type": "markdown",
   "metadata": {},
   "source": [
    "Since we will be plotting the agent as a planar object, we set its width and height to one:"
   ]
  },
  {
   "cell_type": "code",
   "execution_count": 3,
   "metadata": {
    "collapsed": true
   },
   "outputs": [],
   "source": [
    "agent.Size.Value = [1; 1];"
   ]
  },
  {
   "cell_type": "markdown",
   "metadata": {},
   "source": [
    "## The planner"
   ]
  },
  {
   "cell_type": "markdown",
   "metadata": {},
   "source": [
    "Next, we create a planner which will be responsible for optimizing the control inputs for the agent:"
   ]
  },
  {
   "cell_type": "code",
   "execution_count": 4,
   "metadata": {
    "collapsed": false
   },
   "outputs": [
    {
     "name": "stdout",
     "output_type": "stream",
     "text": [
      "planner = \n",
      "\n",
      "  Planner with properties:\n",
      "\n",
      "      Parameters: [1x1 struct]\n",
      "    MixedInteger: 1\n"
     ]
    }
   ],
   "source": [
    "obstacles = []; % no obstacles in this demo\n",
    "planner = optiplan.Planner(agent, obstacles, 'solver', 'gurobi')"
   ]
  },
  {
   "cell_type": "markdown",
   "metadata": {},
   "source": [
    "To obtain optimal control inputs for the current state $x(k)$, call the `planner.optimize(x)` method."
   ]
  },
  {
   "cell_type": "code",
   "execution_count": 5,
   "metadata": {
    "collapsed": false
   },
   "outputs": [
    {
     "name": "stderr",
     "output_type": "stream",
     "text": [
      "\u001b[0;31mThere are missing values.\n",
      "\u001b[0m"
     ]
    }
   ],
   "source": [
    "x = [0; 10; 0; -10];\n",
    "u = planner.optimize(x)"
   ]
  },
  {
   "cell_type": "markdown",
   "metadata": {},
   "source": [
    "An error! It tells us that in the agent we have proclaimed some variables as time-varying parameters, but didn't specify their values at the time the optimization problem is solved. Let's see what we have forgot to set:"
   ]
  },
  {
   "cell_type": "code",
   "execution_count": 6,
   "metadata": {
    "collapsed": false
   },
   "outputs": [
    {
     "name": "stdout",
     "output_type": "stream",
     "text": [
      "planner.Parameters.Agent.Y.Reference  [2 1 10]\n"
     ]
    }
   ],
   "source": [
    "planner.listMissing()"
   ]
  },
  {
   "cell_type": "markdown",
   "metadata": {},
   "source": [
    "Ok, we need to provide the value of the output reference by setting `planner.Parameters.Agent.Y.Reference` to some value. It can either be a 2x1 vector, or a 2x10 matrix. In the former case the value is expanded over the whole prediction horizon. In the latter case, each column of the matrix is treated as the reference for the k-th step of the prediction horizon.\n",
    "\n",
    "Therefore"
   ]
  },
  {
   "cell_type": "code",
   "execution_count": 7,
   "metadata": {
    "collapsed": true
   },
   "outputs": [],
   "source": [
    "planner.Parameters.Agent.Y.Reference = [3; 5];"
   ]
  },
  {
   "cell_type": "markdown",
   "metadata": {},
   "source": [
    "would set the output reference to be constantly [3; 5] for the whole prediction horizon. (Remember, this only applies to the current optimization. The next time we solve the problem again, we can choose a different value).\n",
    "\n",
    "If instead we use"
   ]
  },
  {
   "cell_type": "code",
   "execution_count": 8,
   "metadata": {
    "collapsed": true
   },
   "outputs": [],
   "source": [
    "planner.Parameters.Agent.Y.Reference = [1:10; 10:-1:1];"
   ]
  },
  {
   "cell_type": "markdown",
   "metadata": {},
   "source": [
    "then we set $y_{\\text{ref}}(0) = [1; 10]$, $y_{\\text{ref}}(1) = [2; 9]$ and so on."
   ]
  },
  {
   "cell_type": "markdown",
   "metadata": {},
   "source": [
    "Now that we have provided the value of the parameters, the `optimize()` method should complain no more:"
   ]
  },
  {
   "cell_type": "code",
   "execution_count": 9,
   "metadata": {
    "collapsed": false
   },
   "outputs": [
    {
     "name": "stdout",
     "output_type": "stream",
     "text": [
      "u =\n",
      "\n",
      "   -2.0000\n",
      "    2.0000\n"
     ]
    }
   ],
   "source": [
    "u = planner.optimize(x)"
   ]
  },
  {
   "cell_type": "markdown",
   "metadata": {},
   "source": [
    "We have obtained the value of the optimal control input as the first element of the optimized open-loop sequence. You can request more information from the `optimize()` method:"
   ]
  },
  {
   "cell_type": "code",
   "execution_count": 10,
   "metadata": {
    "collapsed": false
   },
   "outputs": [
    {
     "name": "stdout",
     "output_type": "stream",
     "text": [
      "u =\n",
      "\n",
      "   -2.0000\n",
      "    2.0000\n",
      "\n",
      "\n",
      "problem =\n",
      "\n",
      "     0\n",
      "\n",
      "\n",
      "openloop = \n",
      "\n",
      "    X: [4x11 double]\n",
      "    U: [2x10 double]\n",
      "    Y: [2x10 double]\n"
     ]
    }
   ],
   "source": [
    "[u, problem, openloop] = planner.optimize(x)"
   ]
  },
  {
   "cell_type": "markdown",
   "metadata": {},
   "source": [
    "The `problem` output indicates whether the optimization was feasible. In short, `problem=0` is returned when no problems were detected. Any non-zero value indicates some issues. Use `yalmiperror(problem)` to see the meaning of the error code:"
   ]
  },
  {
   "cell_type": "code",
   "execution_count": 11,
   "metadata": {
    "collapsed": false
   },
   "outputs": [
    {
     "name": "stdout",
     "output_type": "stream",
     "text": [
      "ans =\n",
      "\n",
      "Successfully solved\n"
     ]
    }
   ],
   "source": [
    "yalmiperror(problem)"
   ]
  },
  {
   "cell_type": "markdown",
   "metadata": {},
   "source": [
    "The `openloop` output contains optimized predicted trajectories of states, inputs, and outputs:"
   ]
  },
  {
   "cell_type": "markdown",
   "metadata": {},
   "source": [
    "## Closed-loop simulation (manual approach)"
   ]
  },
  {
   "cell_type": "markdown",
   "metadata": {},
   "source": [
    "Let's build a simple closed-loop simulation manually:"
   ]
  },
  {
   "cell_type": "code",
   "execution_count": 12,
   "metadata": {
    "collapsed": false
   },
   "outputs": [
    {
     "data": {
      "image/png": "[encoded data removed]",
      "text/plain": [
       "<IPython.core.display.Image object>"
      ]
     },
     "metadata": {},
     "output_type": "display_data"
    }
   ],
   "source": [
    "x0 = [0; 10; 0; -10]; % initial position [10; -10] with zero speed in both axis\n",
    "Nsim = 60; % number of simulation steps\n",
    "\n",
    "% load sample dynamics of the plant\n",
    "simdata = optiplan.LinearAgent.demo2Ddata(Ts);\n",
    "\n",
    "% storage for closed-loop profiles of states, inputs and outputs\n",
    "X = x0;\n",
    "U = [];\n",
    "Y = [];\n",
    "% simulation loop\n",
    "for k = 1:Nsim\n",
    "    % the reference will be [5; 0] for the first half of the simulation and [0; -4] for the second half\n",
    "    if k<=Nsim/2\n",
    "        planner.Parameters.Agent.Y.Reference = [5; 0];\n",
    "    else\n",
    "        planner.Parameters.Agent.Y.Reference = [0; -4];\n",
    "    end\n",
    "    x = X(:, end); % last known state\n",
    "    [u, prob] = planner.optimize(x);\n",
    "    if prob~=0\n",
    "        error('Problem at step %d: %s', k, yalmiperror(prob));\n",
    "    end\n",
    "    % state update\n",
    "    xn = simdata.A*x+simdata.B*u;\n",
    "    y = simdata.C*x;\n",
    "    X = [X, xn];\n",
    "    Y = [Y, y];\n",
    "    U = [U, u];\n",
    "end\n",
    "\n",
    "% plot the closed-loop profiles in the x-y plane\n",
    "plot(Y(1, :), Y(2, :), 'linewidth', 2);\n",
    "hold on\n",
    "plot(5, 0, 'rx', 'markersize', 15); % first reference\n",
    "plot(0, -4, 'kx', 'markersize', 15); % second reference"
   ]
  },
  {
   "cell_type": "markdown",
   "metadata": {},
   "source": [
    "## Closed-loop simulation via Simulator"
   ]
  },
  {
   "cell_type": "markdown",
   "metadata": {},
   "source": [
    "A more convenient approach to closed-loop simulations is to use the dedicated `Simulator` class:"
   ]
  },
  {
   "cell_type": "code",
   "execution_count": 13,
   "metadata": {
    "collapsed": false
   },
   "outputs": [
    {
     "name": "stdout",
     "output_type": "stream",
     "text": [
      "psim = \n",
      "\n",
      "  Simulator with properties:\n",
      "\n",
      "       Results: [1x1 struct]\n",
      "    Parameters: [1x1 struct]\n"
     ]
    }
   ],
   "source": [
    "psim = optiplan.Simulator(planner)"
   ]
  },
  {
   "cell_type": "markdown",
   "metadata": {},
   "source": [
    "Any time-varying parameters (references, dynamics, constraints, etc.) can be set via `psim.Parameters`. The procedure is identical to setting the values via a planner. For example, to set the position reference to `[5; 0]` for the first half of the simulation, and to `[0; -4]` for the second half, do"
   ]
  },
  {
   "cell_type": "code",
   "execution_count": 14,
   "metadata": {
    "collapsed": true
   },
   "outputs": [],
   "source": [
    "Nsim = 60;\n",
    "yref = [repmat([5; 0], 1, Nsim/2), repmat([0; -4], 1, Nsim/2)];\n",
    "psim.Parameters.Agent.Y.Reference = yref;"
   ]
  },
  {
   "cell_type": "markdown",
   "metadata": {},
   "source": [
    "As we can see, the simulation horizon given by `Nsim` is split into $n_w$ parts (where $n_w$ is the number of waypoints), with $w_1$ used in the first part, $w_2$ in the second one, etc."
   ]
  },
  {
   "cell_type": "markdown",
   "metadata": {},
   "source": [
    "Back to the simulator, though. Once the parameters are set, we can run the simulation by invoking the `run` method, providing the initial state `x0` and the number of simulation steps `Nsim`:"
   ]
  },
  {
   "cell_type": "code",
   "execution_count": 15,
   "metadata": {
    "collapsed": false
   },
   "outputs": [],
   "source": [
    "x0 = [0; 10; 0; -10];\n",
    "psim.run(x0, Nsim);"
   ]
  },
  {
   "cell_type": "markdown",
   "metadata": {},
   "source": [
    "After the simulation completes, the closed-loop profiles of states, inputs and outputs can be found in `psim.Results`:"
   ]
  },
  {
   "cell_type": "code",
   "execution_count": 16,
   "metadata": {
    "collapsed": false
   },
   "outputs": [
    {
     "name": "stdout",
     "output_type": "stream",
     "text": [
      "ans = \n",
      "\n",
      "                  X: [4x61 double]\n",
      "                  U: [2x60 double]\n",
      "                  Y: [2x60 double]\n",
      "        Predictions: [1x60 struct]\n",
      "    ConsPredictions: [1x1 struct]\n",
      "               Nsim: 60\n"
     ]
    }
   ],
   "source": [
    "psim.Results"
   ]
  },
  {
   "cell_type": "markdown",
   "metadata": {},
   "source": [
    "To visualize recorded profiles, use the `psim.plot` method:"
   ]
  },
  {
   "cell_type": "code",
   "execution_count": 17,
   "metadata": {
    "collapsed": false
   },
   "outputs": [
    {
     "data": {
      "image/png": "[encoded data removed]",
      "text/plain": [
       "<IPython.core.display.Image object>"
      ]
     },
     "metadata": {},
     "output_type": "display_data"
    }
   ],
   "source": [
    "psim.plot('Trail', true)"
   ]
  },
  {
   "cell_type": "markdown",
   "metadata": {},
   "source": [
    "## Complete code"
   ]
  },
  {
   "cell_type": "code",
   "execution_count": 18,
   "metadata": {
    "collapsed": false
   },
   "outputs": [
    {
     "data": {
      "image/png": "[encoded data removed]",
      "text/plain": [
       "<IPython.core.display.Image object>"
      ]
     },
     "metadata": {},
     "output_type": "display_data"
    },
    {
     "data": {
      "image/png": "[encoded data removed]",
      "text/plain": [
       "<IPython.core.display.Image object>"
      ]
     },
     "metadata": {},
     "output_type": "display_data"
    }
   ],
   "source": [
    "clear\n",
    "close all\n",
    "\n",
    "%% setup\n",
    "N = 10;     % prediction horizon\n",
    "Ts = 0.25;  % sampling time\n",
    "agent = optiplan.LinearAgent.demo2D('PredictionHorizon', N, 'SamplingTime', Ts);\n",
    "agent.Size.Value = [1; 1]; % width and length of the agent\n",
    "% the reference will be provided during the simulation\n",
    "agent.Y.Reference = 'parameter';\n",
    "obstacles = []; % no obstacles in this demo\n",
    "planner = optiplan.Planner(agent, obstacles, 'solver', 'gurobi');\n",
    "\n",
    "%% manual closed-loop simulation\n",
    "x0 = [0; 10; 0; -10]; % initial position [10; -10] with zero speed in both axis\n",
    "Nsim = 60; % number of simulation steps\n",
    "\n",
    "% load sample dynamics of the plant\n",
    "simdata = optiplan.LinearAgent.demo2Ddata(Ts);\n",
    "\n",
    "% storage for closed-loop profiles of states, inputs and outputs\n",
    "X = x0;\n",
    "U = [];\n",
    "Y = [];\n",
    "\n",
    "% the reference will be [5; 0] for the first half of the simulation and \n",
    "% [0; -4] for the second half \n",
    "yref1 = [5; 0];\n",
    "yref2 = [0; -4];\n",
    "\n",
    "% simulation loop\n",
    "for k = 1:Nsim\n",
    "    if k<=Nsim/2\n",
    "        planner.Parameters.Agent.Y.Reference = yref1;\n",
    "    else\n",
    "        planner.Parameters.Agent.Y.Reference = yref2;\n",
    "    end\n",
    "    x = X(:, end); % last known state\n",
    "    [u, prob] = planner.optimize(x);\n",
    "    if prob~=0\n",
    "        error('Problem at step %d: %s', k, yalmiperror(prob));\n",
    "    end\n",
    "    % state update\n",
    "    xn = simdata.A*x+simdata.B*u;\n",
    "    y = simdata.C*x;\n",
    "    X = [X, xn];\n",
    "    Y = [Y, y];\n",
    "    U = [U, u];\n",
    "end\n",
    "% plot the closed-loop profiles in the x-y plane\n",
    "plot(Y(1, :), Y(2, :), 'linewidth', 2);\n",
    "hold on\n",
    "plot(5, 0, 'rx', 'markersize', 15); % first reference\n",
    "plot(0, -4, 'kx', 'markersize', 15); % second reference\n",
    "grid on; axis equal; axis([-22 22 -22 22]);\n",
    "title('Manual simulation')\n",
    "drawnow\n",
    "\n",
    "%% automatic closed-loop simulation\n",
    "psim = optiplan.Simulator(planner);\n",
    "psim.Parameters.Agent.Y.Reference = psim.pointwiseTrajectory(Nsim+10, [yref1, yref2]);\n",
    "psim.run(x0, Nsim);\n",
    "psim.plot('Trail', true);\n",
    "title('Automatic simulation')"
   ]
  },
  {
   "cell_type": "markdown",
   "metadata": {},
   "source": [
    "## Notes & hints"
   ]
  },
  {
   "cell_type": "markdown",
   "metadata": {},
   "source": [
    "**Hint**: use the `Simulator/pointwiseTrajectory` helper to automatically create a trajectory over `Nsim` steps which follows specified waypoints:"
   ]
  },
  {
   "cell_type": "code",
   "execution_count": 19,
   "metadata": {
    "collapsed": false
   },
   "outputs": [
    {
     "name": "stdout",
     "output_type": "stream",
     "text": [
      "w =\n",
      "\n",
      "  Columns 1 through 13\n",
      "\n",
      "     5     5     5     5     5     5     5     5     0     0     0     0     0\n",
      "     0     0     0     0     0     0     0     0    -4    -4    -4    -4    -4\n",
      "\n",
      "  Columns 14 through 25\n",
      "\n",
      "     0     0     0     1     1     1     1     1     1     1     1     1\n",
      "    -4    -4    -4     1     1     1     1     1     1     1     1     1\n"
     ]
    }
   ],
   "source": [
    "w1 = [5; 0]; w2 = [0; -4]; w3 = [1; 1]; M = 24;\n",
    "w = psim.pointwiseTrajectory(M, [w1 w2 w3])"
   ]
  },
  {
   "cell_type": "markdown",
   "metadata": {
    "collapsed": true
   },
   "source": []
  }
 ],
 "metadata": {
  "anaconda-cloud": {},
  "kernelspec": {
   "display_name": "Matlab",
   "language": "matlab",
   "name": "matlab"
  },
  "language_info": {
   "codemirror_mode": "octave",
   "file_extension": ".m",
   "help_links": [
    {
     "text": "MetaKernel Magics",
     "url": "https://github.com/calysto/metakernel/blob/master/metakernel/magics/README.md"
    }
   ],
   "mimetype": "text/x-octave",
   "name": "matlab",
   "version": "0.11.0"
  }
 },
 "nbformat": 4,
 "nbformat_minor": 0
}
