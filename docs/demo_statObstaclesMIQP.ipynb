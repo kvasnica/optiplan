{
 "cells": [
  {
   "cell_type": "markdown",
   "metadata": {},
   "source": [
    "# Linear agent, 4 static obstacles, MIQP approach"
   ]
  },
  {
   "cell_type": "code",
   "execution_count": 1,
   "metadata": {
    "collapsed": true
   },
   "outputs": [],
   "source": [
    "clear\n",
    "yalmip clear\n",
    "close all\n",
    "warning off"
   ]
  },
  {
   "cell_type": "markdown",
   "metadata": {},
   "source": [
    "## The agent"
   ]
  },
  {
   "cell_type": "markdown",
   "metadata": {},
   "source": [
    "First we load a demo agent:"
   ]
  },
  {
   "cell_type": "code",
   "execution_count": 2,
   "metadata": {
    "collapsed": false
   },
   "outputs": [
    {
     "name": "stdout",
     "output_type": "stream",
     "text": [
      "agent = \n",
      "\n",
      "  LinearAgent with properties:\n",
      "\n",
      "                 A: [4x4x30 optiplan.AgentSignal]\n",
      "                 B: [4x2x30 optiplan.AgentSignal]\n",
      "                 f: [4x1x30 optiplan.AgentSignal]\n",
      "                 C: [2x4x30 optiplan.AgentSignal]\n",
      "                 D: [2x2x30 optiplan.AgentSignal]\n",
      "                 g: [2x1x30 optiplan.AgentSignal]\n",
      "                nx: 4\n",
      "                nu: 2\n",
      "                ny: 2\n",
      "                 N: 30\n",
      "                 X: [4x1x31 optiplan.AgentSignal]\n",
      "                 U: [2x1x30 optiplan.AgentSignal]\n",
      "                 Y: [2x1x30 optiplan.AgentSignal]\n",
      "              Size: [2x1x30 optiplan.AgentSignal]\n",
      "    ConstraintsFun: []\n",
      "      ObjectiveFun: []\n"
     ]
    }
   ],
   "source": [
    "N = 30;     % prediction horizon\n",
    "Ts = 0.25;  % sampling time\n",
    "agent = optiplan.LinearAgent.demo2D('PredictionHorizon', N, 'SamplingTime', Ts)"
   ]
  },
  {
   "cell_type": "markdown",
   "metadata": {},
   "source": [
    "Tell the agent that the position reference should be treated as a time-varying parameter:"
   ]
  },
  {
   "cell_type": "code",
   "execution_count": 3,
   "metadata": {
    "collapsed": false
   },
   "outputs": [],
   "source": [
    "agent.Y.Reference = 'parameter';"
   ]
  },
  {
   "cell_type": "markdown",
   "metadata": {},
   "source": [
    "Since we will be plotting the agent as a planar object, we set its width and height to one:"
   ]
  },
  {
   "cell_type": "code",
   "execution_count": 4,
   "metadata": {
    "collapsed": true
   },
   "outputs": [],
   "source": [
    "agent.Size.Value = [1; 1];"
   ]
  },
  {
   "cell_type": "markdown",
   "metadata": {},
   "source": [
    "To choose between MIQP or Time-Varying Constraints approach, we need to set variable `MixedInteger` to true/false:"
   ]
  },
  {
   "cell_type": "code",
   "execution_count": 5,
   "metadata": {
    "collapsed": true
   },
   "outputs": [],
   "source": [
    "MixedInteger = true;"
   ]
  },
  {
   "cell_type": "markdown",
   "metadata": {},
   "source": [
    "## The Obstacle"
   ]
  },
  {
   "cell_type": "markdown",
   "metadata": {},
   "source": [
    "Then we create 4 static obstacles, set their visibility and size:"
   ]
  },
  {
   "cell_type": "code",
   "execution_count": 6,
   "metadata": {
    "collapsed": true
   },
   "outputs": [],
   "source": [
    "obstacles = optiplan.Obstacle(agent, 4);\n",
    "for i = 1:length(obstacles)\n",
    "    obstacles(i).Visible.Value = 1;   % all are visible to the agent\n",
    "    obstacles(i).Size.Value = [3; 2]; % all have fixed size\n",
    "end"
   ]
  },
  {
   "cell_type": "markdown",
   "metadata": {},
   "source": [
    "And for each obstacle we set its position:"
   ]
  },
  {
   "cell_type": "code",
   "execution_count": 7,
   "metadata": {
    "collapsed": true
   },
   "outputs": [],
   "source": [
    "obstacles(1).Position.Value = [0; 10];\n",
    "obstacles(2).Position.Value = [10; 0];\n",
    "obstacles(3).Position.Value = [0; -10];\n",
    "obstacles(4).Position.Value = [-10; 0];"
   ]
  },
  {
   "cell_type": "markdown",
   "metadata": {},
   "source": [
    "and minimal separation gab between the agent and the obstacle:"
   ]
  },
  {
   "cell_type": "code",
   "execution_count": 8,
   "metadata": {
    "collapsed": true
   },
   "outputs": [],
   "source": [
    "minsep = agent.Size.Value;"
   ]
  },
  {
   "cell_type": "markdown",
   "metadata": {},
   "source": [
    "## The Planner"
   ]
  },
  {
   "cell_type": "markdown",
   "metadata": {},
   "source": [
    "Next, we create a planner which will be responsible for optimizing the control inputs for the agent:"
   ]
  },
  {
   "cell_type": "code",
   "execution_count": 9,
   "metadata": {
    "collapsed": false
   },
   "outputs": [
    {
     "name": "stdout",
     "output_type": "stream",
     "text": [
      "planner = \n",
      "\n",
      "  Planner with properties:\n",
      "\n",
      "      Parameters: [1x1 struct]\n",
      "    MixedInteger: 1\n"
     ]
    }
   ],
   "source": [
    "planner = optiplan.Planner(agent, obstacles, 'MinSeparation', minsep,...\n",
    "    'solver', 'gurobi', 'MixedInteger', MixedInteger)"
   ]
  },
  {
   "cell_type": "markdown",
   "metadata": {},
   "source": [
    "## The Simulator"
   ]
  },
  {
   "cell_type": "markdown",
   "metadata": {},
   "source": [
    "To make closed-loop simulation, we create Simulator:"
   ]
  },
  {
   "cell_type": "code",
   "execution_count": 10,
   "metadata": {
    "collapsed": false
   },
   "outputs": [
    {
     "name": "stdout",
     "output_type": "stream",
     "text": [
      "psim = \n",
      "\n",
      "  Simulator with properties:\n",
      "\n",
      "       Results: [1x1 struct]\n",
      "    Parameters: [1x1 struct]\n"
     ]
    }
   ],
   "source": [
    "psim = optiplan.Simulator(planner)"
   ]
  },
  {
   "cell_type": "markdown",
   "metadata": {},
   "source": [
    "Before starting the simulation, we need to define number of simulation steps, intial point and values for time-varying parameters:"
   ]
  },
  {
   "cell_type": "code",
   "execution_count": 11,
   "metadata": {
    "collapsed": false
   },
   "outputs": [],
   "source": [
    "Nsim = 350; % number of simulation steps\n",
    "x0 = [0; 0; 0; 0]; % initial point\n",
    "psim.Parameters.Agent.Y.Reference = psim.circularTrajectory(Nsim, 'Radius', 10, 'Loops', 2);"
   ]
  },
  {
   "cell_type": "markdown",
   "metadata": {},
   "source": [
    "When done, we can run the simulation:"
   ]
  },
  {
   "cell_type": "code",
   "execution_count": 12,
   "metadata": {
    "collapsed": true
   },
   "outputs": [],
   "source": [
    "psim.run(x0, Nsim);"
   ]
  },
  {
   "cell_type": "markdown",
   "metadata": {},
   "source": [
    "To plot the results, launch:"
   ]
  },
  {
   "cell_type": "code",
   "execution_count": 13,
   "metadata": {
    "collapsed": false
   },
   "outputs": [
    {
     "data": {
      "image/png": "[encoded data removed]",
      "text/plain": [
       "<IPython.core.display.Image object>"
      ]
     },
     "metadata": {},
     "output_type": "display_data"
    }
   ],
   "source": [
    "psim.plot('Axis', [-15 15 -15 15], 'Reference', true, 'Trail', true,...\n",
    "        'Predictions', true, 'PredSteps', 10);"
   ]
  },
  {
   "cell_type": "markdown",
   "metadata": {},
   "source": [
    "where '`Axis`' sets dimension of both axis, '`Reference`' enable/disable showing the reference, '`Predictions`' enable/disable showing predicted positions of the agent, '`PredSteps`' defines number of displayed predictions, '`Trail`' enable/disable showing realized trajectory of agent."
   ]
  },
  {
   "cell_type": "markdown",
   "metadata": {},
   "source": [
    "## Notes & hints"
   ]
  },
  {
   "cell_type": "markdown",
   "metadata": {},
   "source": [
    "**Hint**: use the `Simulator/circularTrajectory` helper to automatically create a trajectory over `Nsim` steps which follows specified circular trajectory:"
   ]
  },
  {
   "cell_type": "code",
   "execution_count": 14,
   "metadata": {
    "collapsed": false
   },
   "outputs": [
    {
     "name": "stdout",
     "output_type": "stream",
     "text": [
      "r =\n",
      "\n",
      "  Columns 1 through 7\n",
      "\n",
      "   -5.0000   -4.7553   -4.0451   -2.9389   -1.5451    0.0000    1.5451\n",
      "   -0.0000   -1.5451   -2.9389   -4.0451   -4.7553   -5.0000   -4.7553\n",
      "\n",
      "  Columns 8 through 14\n",
      "\n",
      "    2.9389    4.0451    4.7553    5.0000    4.7553    4.0451    2.9389\n",
      "   -4.0451   -2.9389   -1.5451         0    1.5451    2.9389    4.0451\n",
      "\n",
      "  Columns 15 through 21\n",
      "\n",
      "    1.5451    0.0000   -1.5451   -2.9389   -4.0451   -4.7553   -5.0000\n",
      "    4.7553    5.0000    4.7553    4.0451    2.9389    1.5451    0.0000\n"
     ]
    }
   ],
   "source": [
    "Nsim = 20;\n",
    "r = optiplan.Simulator.circularTrajectory(Nsim, 'Radius', 5, 'Loops', 1)"
   ]
  },
  {
   "cell_type": "markdown",
   "metadata": {
    "collapsed": true
   },
   "source": []
  }
 ],
 "metadata": {
  "anaconda-cloud": {},
  "kernelspec": {
   "display_name": "Matlab",
   "language": "matlab",
   "name": "matlab"
  },
  "language_info": {
   "codemirror_mode": "octave",
   "file_extension": ".m",
   "help_links": [
    {
     "text": "MetaKernel Magics",
     "url": "https://github.com/calysto/metakernel/blob/master/metakernel/magics/README.md"
    }
   ],
   "mimetype": "text/x-octave",
   "name": "matlab",
   "version": "0.11.0"
  }
 },
 "nbformat": 4,
 "nbformat_minor": 0
}
