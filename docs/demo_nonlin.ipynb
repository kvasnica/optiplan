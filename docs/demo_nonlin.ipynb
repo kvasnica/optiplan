{
 "cells": [
  {
   "cell_type": "markdown",
   "metadata": {},
   "source": [
    "# Nonlinear agent, 4 static obstacles, Time-Varying Constraints"
   ]
  },
  {
   "cell_type": "markdown",
   "metadata": {},
   "source": [
    "### Nonlinear dynamics"
   ]
  },
  {
   "cell_type": "markdown",
   "metadata": {},
   "source": [
    "$\\dot{X} = \\frac{r}{2} \\cos(\\Theta) (\\omega _{l} + \\omega _{r})$ $\\qquad$ ($X$: x-position)\n",
    "    \n",
    "$\\dot{Y} = \\frac{r}{2} \\sin(\\Theta) (\\omega _{l} + \\omega _{r})$ $\\qquad\\ $ ($Y$: y-position)\n",
    " \n",
    "$\\dot{\\Theta} = \\frac{r}{L} (\\omega _{r} - \\omega _{l})$ $\\qquad\\qquad\\ $ ($\\Theta$: difference between angular speeds of wheels)"
   ]
  },
  {
   "cell_type": "markdown",
   "metadata": {},
   "source": [
    "### State vector"
   ]
  },
  {
   "cell_type": "markdown",
   "metadata": {},
   "source": [
    "$z = (X, Y, \\Theta)^{\\intercal}$"
   ]
  },
  {
   "cell_type": "markdown",
   "metadata": {},
   "source": [
    "### Input vector"
   ]
  },
  {
   "cell_type": "markdown",
   "metadata": {},
   "source": [
    "$u = (\\omega _{l}, \\omega _{r})^{\\intercal}$\n",
    "\n",
    "where $\\omega _{l}$ and $\\omega _{r}$ are angular speeds of left and right wheel respectively."
   ]
  },
  {
   "cell_type": "markdown",
   "metadata": {},
   "source": [
    "### Constants"
   ]
  },
  {
   "cell_type": "markdown",
   "metadata": {},
   "source": [
    "$r$: radius of wheels\n",
    "\n",
    "$L$: distance between wheels"
   ]
  },
  {
   "cell_type": "markdown",
   "metadata": {},
   "source": [
    "## Matlab code"
   ]
  },
  {
   "cell_type": "code",
   "execution_count": 1,
   "metadata": {
    "collapsed": true
   },
   "outputs": [],
   "source": [
    "clear\n",
    "yalmip clear\n",
    "close all\n",
    "warning off"
   ]
  },
  {
   "cell_type": "markdown",
   "metadata": {},
   "source": [
    "### Define Dynamics"
   ]
  },
  {
   "cell_type": "code",
   "execution_count": 2,
   "metadata": {
    "collapsed": true
   },
   "outputs": [],
   "source": [
    "r = 0.03;\n",
    "L = 0.1;\n",
    "f = @(x, u) [(r/2)*cos(x(3))*(u(1)+u(2)); (r/2)*sin(x(3))*(u(1)+u(2)); (r/L)*(u(2)-u(1))]; % state equation\n",
    "g = @(x, u) x(1:2); % output equation"
   ]
  },
  {
   "cell_type": "markdown",
   "metadata": {},
   "source": [
    "### Discretization"
   ]
  },
  {
   "cell_type": "code",
   "execution_count": 3,
   "metadata": {
    "collapsed": true
   },
   "outputs": [],
   "source": [
    "Ts = 1; % sampling time"
   ]
  },
  {
   "cell_type": "markdown",
   "metadata": {},
   "source": [
    "The state-update equation must take three inputs (current state, current input and the agent object) and return one output (successor state vector):"
   ]
  },
  {
   "cell_type": "code",
   "execution_count": 4,
   "metadata": {
    "collapsed": true
   },
   "outputs": [],
   "source": [
    "state_eq = @(x, u, ~) x+Ts*f(x, u);"
   ]
  },
  {
   "cell_type": "markdown",
   "metadata": {},
   "source": [
    "The output equation must take three inputs (current state, current input and the agent object) and return the x-y position vector:"
   ]
  },
  {
   "cell_type": "code",
   "execution_count": 5,
   "metadata": {
    "collapsed": true
   },
   "outputs": [],
   "source": [
    "output_eq = @(x, u, ~) g(x, u);"
   ]
  },
  {
   "cell_type": "markdown",
   "metadata": {},
   "source": [
    "### The agent"
   ]
  },
  {
   "cell_type": "markdown",
   "metadata": {},
   "source": [
    "First we create an agent with 3 states, 2 inputs and 2 outputs:"
   ]
  },
  {
   "cell_type": "code",
   "execution_count": 6,
   "metadata": {
    "collapsed": false
   },
   "outputs": [
    {
     "name": "stdout",
     "output_type": "stream",
     "text": [
      "agent = \n",
      "\n",
      "  NonlinearAgent with properties:\n",
      "\n",
      "           StateEq: []\n",
      "          OutputEq: []\n",
      "                nx: 3\n",
      "                nu: 2\n",
      "                ny: 2\n",
      "                 N: 30\n",
      "                 X: [3\u001a1\u001a31 optiplan.AgentSignal]\n",
      "                 U: [2\u001a1\u001a30 optiplan.AgentSignal]\n",
      "                 Y: [2\u001a1\u001a30 optiplan.AgentSignal]\n",
      "              Size: [2\u001a1\u001a30 optiplan.AgentSignal]\n",
      "    ConstraintsFun: []\n",
      "      ObjectiveFun: []\n"
     ]
    }
   ],
   "source": [
    "N = 30;     % prediction horizon\n",
    "agent = optiplan.NonlinearAgent('nx', 3, 'nu', 2, 'ny', 2, 'PredictionHorizon', N)"
   ]
  },
  {
   "cell_type": "markdown",
   "metadata": {},
   "source": [
    "Then we set nonlinear agent dynamics:"
   ]
  },
  {
   "cell_type": "code",
   "execution_count": 7,
   "metadata": {
    "collapsed": false
   },
   "outputs": [
    {
     "name": "stdout",
     "output_type": "stream",
     "text": [
      "agent = \n",
      "\n",
      "  NonlinearAgent with properties:\n",
      "\n",
      "           StateEq: @(x,u,~)x+Ts*f(x,u)\n",
      "          OutputEq: @(x,u,~)g(x,u)\n",
      "                nx: 3\n",
      "                nu: 2\n",
      "                ny: 2\n",
      "                 N: 30\n",
      "                 X: [3\u001a1\u001a31 optiplan.AgentSignal]\n",
      "                 U: [2\u001a1\u001a30 optiplan.AgentSignal]\n",
      "                 Y: [2\u001a1\u001a30 optiplan.AgentSignal]\n",
      "              Size: [2\u001a1\u001a30 optiplan.AgentSignal]\n",
      "    ConstraintsFun: []\n",
      "      ObjectiveFun: []\n"
     ]
    }
   ],
   "source": [
    "agent.StateEq = state_eq;\n",
    "agent.OutputEq = output_eq"
   ]
  },
  {
   "cell_type": "markdown",
   "metadata": {},
   "source": [
    "Input constraints, reference and penalties:"
   ]
  },
  {
   "cell_type": "code",
   "execution_count": 8,
   "metadata": {
    "collapsed": false
   },
   "outputs": [],
   "source": [
    "agent.U.Min = [-40; -40];\n",
    "agent.U.Max = [40; 40];\n",
    "agent.U.Reference = zeros(agent.nu, 1);\n",
    "agent.U.Penalty = 1e-3*eye(agent.nu); % Slightly penalize control inputs to keep them small"
   ]
  },
  {
   "cell_type": "markdown",
   "metadata": {},
   "source": [
    "Output constraints (as '`parameter`' because we will use time-varying constraints), reference and penalties:"
   ]
  },
  {
   "cell_type": "code",
   "execution_count": 9,
   "metadata": {
    "collapsed": true
   },
   "outputs": [],
   "source": [
    "agent.Y.Min = 'parameter'; \n",
    "agent.Y.Max = 'parameter';\n",
    "agent.Y.Penalty = eye(agent.ny); % Fixed penalty on position tracking\n",
    "agent.Y.Reference = 'parameter'; % The position reference will be time-varying"
   ]
  },
  {
   "cell_type": "markdown",
   "metadata": {},
   "source": [
    "we have no state constraints nor reference:"
   ]
  },
  {
   "cell_type": "code",
   "execution_count": 10,
   "metadata": {
    "collapsed": false
   },
   "outputs": [],
   "source": [
    "agent.X.Min = -Inf(agent.nx, 1);\n",
    "agent.X.Max = Inf(agent.nx, 1);\n",
    "agent.X.Reference = zeros(agent.nx, 1); % can be anything\n",
    "agent.X.Penalty = zeros(agent.nx);"
   ]
  },
  {
   "cell_type": "markdown",
   "metadata": {},
   "source": [
    "Since we will be plotting the agent as a planar object, we set its width and height to one:"
   ]
  },
  {
   "cell_type": "code",
   "execution_count": 11,
   "metadata": {
    "collapsed": true
   },
   "outputs": [],
   "source": [
    "agent.Size.Value = [1; 1];"
   ]
  },
  {
   "cell_type": "markdown",
   "metadata": {},
   "source": [
    "Beacuse of nonlinear dynaics, we will use only time-varying constraints, therefore variable `MixedInteger` is set false:"
   ]
  },
  {
   "cell_type": "code",
   "execution_count": 12,
   "metadata": {
    "collapsed": true
   },
   "outputs": [],
   "source": [
    "MixedInteger = false;"
   ]
  },
  {
   "cell_type": "markdown",
   "metadata": {},
   "source": [
    "### The Obstacle"
   ]
  },
  {
   "cell_type": "markdown",
   "metadata": {},
   "source": [
    "Then we create 4 static obstacles, set their visibility and size:"
   ]
  },
  {
   "cell_type": "code",
   "execution_count": 13,
   "metadata": {
    "collapsed": true
   },
   "outputs": [],
   "source": [
    "obstacles = optiplan.Obstacle(agent, 4);\n",
    "for i = 1:length(obstacles)\n",
    "    obstacles(i).Visible.Value = 0;     % all obstacles are not visible to the agent\n",
    "    obstacles(i).Size.Value = [3; 2];   % all have fixed size\n",
    "end"
   ]
  },
  {
   "cell_type": "markdown",
   "metadata": {},
   "source": [
    "And for each obstacle we set its position:"
   ]
  },
  {
   "cell_type": "code",
   "execution_count": 14,
   "metadata": {
    "collapsed": true
   },
   "outputs": [],
   "source": [
    "obstacles(1).Position.Value = [0; 10];\n",
    "obstacles(2).Position.Value = [10; 0];\n",
    "obstacles(3).Position.Value = [0; -10];\n",
    "obstacles(4).Position.Value = [-10; 0];"
   ]
  },
  {
   "cell_type": "markdown",
   "metadata": {},
   "source": [
    "and minimal separation gap between the agent and the obstacle:"
   ]
  },
  {
   "cell_type": "code",
   "execution_count": 15,
   "metadata": {
    "collapsed": true
   },
   "outputs": [],
   "source": [
    "minsep = agent.Size.Value;"
   ]
  },
  {
   "cell_type": "markdown",
   "metadata": {},
   "source": [
    "### The Planner"
   ]
  },
  {
   "cell_type": "markdown",
   "metadata": {},
   "source": [
    "Next, we create a planner which will be responsible for optimizing the control inputs for the agent:"
   ]
  },
  {
   "cell_type": "code",
   "execution_count": 16,
   "metadata": {
    "collapsed": false
   },
   "outputs": [
    {
     "name": "stdout",
     "output_type": "stream",
     "text": [
      "planner = \n",
      "\n",
      "  Planner with properties:\n",
      "\n",
      "      Parameters: [1\u001a1 struct]\n",
      "    MixedInteger: 0\n"
     ]
    }
   ],
   "source": [
    "planner = optiplan.Planner(agent, obstacles, 'MinSeparation', minsep,...\n",
    "    'solver', 'fmincon', 'MixedInteger', MixedInteger)"
   ]
  },
  {
   "cell_type": "markdown",
   "metadata": {},
   "source": [
    "### The Simulator"
   ]
  },
  {
   "cell_type": "markdown",
   "metadata": {},
   "source": [
    "To make closed-loop simulation, we create Simulator:"
   ]
  },
  {
   "cell_type": "code",
   "execution_count": 17,
   "metadata": {
    "collapsed": false
   },
   "outputs": [
    {
     "name": "stdout",
     "output_type": "stream",
     "text": [
      "psim = \n",
      "\n",
      "  Simulator with properties:\n",
      "\n",
      "       Results: [1\u001a1 struct]\n",
      "    Parameters: [1\u001a1 struct]\n"
     ]
    }
   ],
   "source": [
    "psim = optiplan.Simulator(planner)"
   ]
  },
  {
   "cell_type": "markdown",
   "metadata": {},
   "source": [
    "Before starting the simulation, we need to define number of simulation steps, intial point and values for time-varying parameters:"
   ]
  },
  {
   "cell_type": "code",
   "execution_count": 18,
   "metadata": {
    "collapsed": false
   },
   "outputs": [],
   "source": [
    "Nsim = 350; % number of simulation steps\n",
    "x0 = [0; 0; 0]; % initial point\n",
    "psim.Parameters.Agent.Y.Reference = psim.circularTrajectory(Nsim, 'Radius', 10, 'Loops', 2);"
   ]
  },
  {
   "cell_type": "markdown",
   "metadata": {},
   "source": [
    "When done, we can run the simulation:"
   ]
  },
  {
   "cell_type": "code",
   "execution_count": 19,
   "metadata": {
    "collapsed": true
   },
   "outputs": [],
   "source": [
    "psim.run(x0, Nsim);"
   ]
  },
  {
   "cell_type": "markdown",
   "metadata": {},
   "source": [
    "To plot the results, launch:"
   ]
  },
  {
   "cell_type": "code",
   "execution_count": 20,
   "metadata": {
    "collapsed": false
   },
   "outputs": [
    {
     "data": {
      "image/png": "[encoded data removed]",
      "text/plain": [
       "<IPython.core.display.Image object>"
      ]
     },
     "metadata": {},
     "output_type": "display_data"
    }
   ],
   "source": [
    "psim.plot('Axis', [-15 15 -15 15], 'Reference', true, 'Trail', true,...\n",
    "        'Predictions', true, 'PredSteps', 10, 'Constraints', true);"
   ]
  },
  {
   "cell_type": "markdown",
   "metadata": {},
   "source": [
    "where '`Axis`' sets dimension of both axis, '`Reference`' enable/disable showing the reference, '`Predictions`' enable/disable showing ptredicted positions of the agent, '`PredSteps`' defines number of displayed predictions, '`Trail`' enable/disable showing realized trajectory of agent and '`Constraints`' enable/disable showing the constraints."
   ]
  },
  {
   "cell_type": "markdown",
   "metadata": {},
   "source": [
    "## Notes & hints"
   ]
  },
  {
   "cell_type": "markdown",
   "metadata": {},
   "source": [
    "**Hint**: use the `Simulator/circularTrajectory` helper to automatically create a trajectory over `Nsim` steps which follows specified circular trajectory:"
   ]
  },
  {
   "cell_type": "code",
   "execution_count": 21,
   "metadata": {
    "collapsed": false,
    "scrolled": true
   },
   "outputs": [
    {
     "name": "stdout",
     "output_type": "stream",
     "text": [
      "r =\n",
      "\n",
      "  Columns 1 through 7\n",
      "\n",
      "   -5.0000   -4.7553   -4.0451   -2.9389   -1.5451    0.0000    1.5451\n",
      "   -0.0000   -1.5451   -2.9389   -4.0451   -4.7553   -5.0000   -4.7553\n",
      "\n",
      "  Columns 8 through 14\n",
      "\n",
      "    2.9389    4.0451    4.7553    5.0000    4.7553    4.0451    2.9389\n",
      "   -4.0451   -2.9389   -1.5451         0    1.5451    2.9389    4.0451\n",
      "\n",
      "  Columns 15 through 21\n",
      "\n",
      "    1.5451    0.0000   -1.5451   -2.9389   -4.0451   -4.7553   -5.0000\n",
      "    4.7553    5.0000    4.7553    4.0451    2.9389    1.5451    0.0000\n"
     ]
    }
   ],
   "source": [
    "Nsim = 20;\n",
    "r = optiplan.Simulator.circularTrajectory(Nsim, 'Radius', 5, 'Loops', 1)"
   ]
  },
  {
   "cell_type": "markdown",
   "metadata": {
    "collapsed": true
   },
   "source": []
  }
 ],
 "metadata": {
  "anaconda-cloud": {},
  "kernelspec": {
   "display_name": "Matlab",
   "language": "matlab",
   "name": "matlab"
  },
  "language_info": {
   "codemirror_mode": "octave",
   "file_extension": ".m",
   "help_links": [
    {
     "text": "MetaKernel Magics",
     "url": "https://github.com/calysto/metakernel/blob/master/metakernel/magics/README.md"
    }
   ],
   "mimetype": "text/x-octave",
   "name": "matlab",
   "version": "0.11.0"
  }
 },
 "nbformat": 4,
 "nbformat_minor": 0
}
