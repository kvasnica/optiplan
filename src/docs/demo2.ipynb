{
 "cells": [
  {
   "cell_type": "markdown",
   "metadata": {},
   "source": [
    "# Trajectory planning with obstacle avoidance and nonlinear constraints"
   ]
  },
  {
   "cell_type": "markdown",
   "metadata": {},
   "source": [
    "## Problem description"
   ]
  },
  {
   "cell_type": "markdown",
   "metadata": {},
   "source": [
    "We want to generate a trajectory from a given starting point which meets following criteria:\n",
    " * the planar motion of the agent is driven by horizontal and vertical speeds $v_x$ and $v_y$, respectively,\n",
    " * the overal speed, i.e., $v = \\sqrt{v_x^2+v_y^2}$ is bounded,\n",
    " * at the end of the prediction horizon the agent's position must be as close as possible to the desired location.\n"
   ]
  },
  {
   "cell_type": "markdown",
   "metadata": {},
   "source": [
    "## Agent setup"
   ]
  },
  {
   "cell_type": "markdown",
   "metadata": {},
   "source": [
    "We model agent's dynamics as two decoupled integrators, i.e.,\n",
    "\\begin{align}\n",
    "   \\dot{p}_x & = v_x\\\\\n",
    "   \\dot{p}_y & = v_y\n",
    "\\end{align}\n",
    "\n",
    "where $p_x$, $p_y$ are the positions in the $x$- and $y$-axis, respectively. The control inputs are the horizontal ($v_x$) and vertical speeds ($v_y$). Since moantool only supports discrete-time formulations, we will discretize the dynamics using simple forward Euler rule with a given sampling time, i.e.:\n",
    "\\begin{align}\n",
    "   p_x(k+1) & = p_x(k) + T_{\\text{s}} v_x(k) \\\\\n",
    "   p_y(k+1) & = p_y(k) + T_{\\text{s}} v_y(k)\n",
    "\\end{align}\n",
    "\n",
    "This will be subsequently translated to $x(k+1) = A x(k) + B u(k)$, with $x(k) = [p_x(k), p_y(k)]^T$ and $u(k) = [v_x(k), v_y(k)]^T$.\n",
    "\n",
    "\n",
    "The prediction horizon must be long enough for the agent to be able to reach the final location despite constaints on the overal speed.\n",
    "\n",
    "The prediction horizon must be long enough for the agent to be able to reach the final location despite constaints on the overal speed."
   ]
  },
  {
   "cell_type": "code",
   "execution_count": 23,
   "metadata": {
    "collapsed": true
   },
   "outputs": [],
   "source": [
    "N = 30;"
   ]
  },
  {
   "cell_type": "markdown",
   "metadata": {},
   "source": [
    "Now we create the planner:"
   ]
  },
  {
   "cell_type": "code",
   "execution_count": 24,
   "metadata": {
    "collapsed": true
   },
   "outputs": [],
   "source": [
    "nx = 2; nu = 2; ny = 2;\n",
    "agent = moantool.LinearAgent('Nx', 2, 'Nu', 2, 'Ny', 2, 'PredictionHorizon', N);\n",
    "agent.Size.Value = [0.5; 0.5]; % width and height of the agent"
   ]
  },
  {
   "cell_type": "markdown",
   "metadata": {},
   "source": [
    "The agent's linear dynamics is time-invariant:"
   ]
  },
  {
   "cell_type": "code",
   "execution_count": 25,
   "metadata": {
    "collapsed": true
   },
   "outputs": [],
   "source": [
    "Ts = 1; % sampling time\n",
    "A = eye(2); B = Ts*eye(2);\n",
    "agent.A.Value = A;\n",
    "agent.B.Value = B;\n",
    "agent.f.Value = zeros(nx, 1);\n",
    "agent.C.Value = eye(ny); % in moantool, the outputs must always be the positions\n",
    "agent.D.Value = zeros(ny, nu);\n",
    "agent.g.Value = zeros(ny, 1);"
   ]
  },
  {
   "cell_type": "markdown",
   "metadata": {},
   "source": [
    "No constraints on positions, and speeds in individual axes (only on the overall speed, that one will be added later):"
   ]
  },
  {
   "cell_type": "code",
   "execution_count": 26,
   "metadata": {
    "collapsed": true
   },
   "outputs": [],
   "source": [
    "agent.X.Min = -Inf(nx, 1);\n",
    "agent.X.Max = Inf(nx, 1);\n",
    "agent.U.Min = -Inf(nu, 1);\n",
    "agent.U.Max = Inf(nu, 1);\n",
    "agent.Y.Min = -Inf(ny, 1);\n",
    "agent.Y.Max = Inf(ny, 1);"
   ]
  },
  {
   "cell_type": "markdown",
   "metadata": {},
   "source": [
    "No penalties/references on states/inputs"
   ]
  },
  {
   "cell_type": "code",
   "execution_count": 27,
   "metadata": {
    "collapsed": true
   },
   "outputs": [],
   "source": [
    "agent.X.Penalty = zeros(nx);\n",
    "agent.X.Reference = zeros(nx, 1);\n",
    "agent.U.Penalty = zeros(nu);\n",
    "agent.U.Reference = zeros(nu, 1);"
   ]
  },
  {
   "cell_type": "markdown",
   "metadata": {},
   "source": [
    "The output (position) reference can be time-varying, as well as the position penalty:"
   ]
  },
  {
   "cell_type": "code",
   "execution_count": 28,
   "metadata": {
    "collapsed": true
   },
   "outputs": [],
   "source": [
    "agent.Y.Penalty = 'parameter';\n",
    "agent.Y.Reference = 'parameter';"
   ]
  },
  {
   "cell_type": "markdown",
   "metadata": {},
   "source": [
    "## Nonlinear constraints"
   ]
  },
  {
   "cell_type": "markdown",
   "metadata": {},
   "source": [
    "But here's the trick: we want to limit the overal speed, given by $v = \\sqrt{v_x^2+v_y^2}$ from above by $v_{\\text{max}}$. To make the problem a bit simpler to solve, we square both sides of the inequality to get $v_x^2 + v_y^2 \\le v_{\\text{max}}^2$. But it's still a nonlinear constraint (albeit convex).\n",
    "\n",
    "Nonlinear constraints are added via a custom function handle. It must point to a function which takes 4 inputs:\n",
    " * the state predictions $X = [x_0, \\ldots, x_{N}]$,\n",
    " * the input predictions $U = [u_0, \\ldots, u_{N-1}]$,\n",
    " * the output predictions $Y = [y_0, \\ldots, y_{N-1}]$,\n",
    " * the agent object\n",
    "\n",
    "Additionaly, we want the agent to be stationary at the end of the optimized path, i.e., $u_{N-1}=0$.\n",
    "\n",
    "Both the position constaints as well as the bound on absolute speed will be added via a function:"
   ]
  },
  {
   "cell_type": "code",
   "execution_count": 29,
   "metadata": {
    "collapsed": false
   },
   "outputs": [],
   "source": [
    "vmax = 3;\n",
    "agent.ConstraintsFun = @(X, U, Y, agent) myConstraints(U, agent, vmax);"
   ]
  },
  {
   "cell_type": "markdown",
   "metadata": {},
   "source": [
    "Here, `myConstraints` is a custom function like this one:"
   ]
  },
  {
   "cell_type": "raw",
   "metadata": {},
   "source": [
    "function cons = myConstraints(U, agent, vmax)\n",
    "% Custom constraints:\n",
    "%  * final speed must be zero\n",
    "%  * absolute speed must be upper-bounded by \"vmax\"\n",
    "\n",
    "cons = [];\n",
    "\n",
    "% At the end of the path the agent has to be stationary\n",
    "cons = cons + [ U(:, end)==0 ];\n",
    "\n",
    "% Now add nonlinear input constraints for each step of the prediction\n",
    "% window\n",
    "for k = 1:agent.N\n",
    "    % Absolute speed at the k-th step of the prediction window\n",
    "    vk = U(:, k)'*U(:, k); % squared 2-norm of U(:, k)\n",
    "    % Bound the speed from above, remember that we have squared the 2-norm\n",
    "    cons = cons + [ vk <= vmax^2 ];\n",
    "end\n",
    "\n",
    "end"
   ]
  },
  {
   "cell_type": "markdown",
   "metadata": {},
   "source": [
    "## Custom optimization objective"
   ]
  },
  {
   "cell_type": "markdown",
   "metadata": {},
   "source": [
    "In addition, we want to minimize the length of the path. Since we do point-wise optimization, this can be done by minimizing $\\sum_{k=0}^{N-1} (y_{k+1} - y_{k})^T (y_{k+1} - y_{k})$, where the terms in the sum are squared distances between two consecutive points on the path.\n",
    "\n",
    "Custom objectives like this one can be added via the `ObjectiveFun` property of the agent. It also has to be a function handle with 4 inputs:"
   ]
  },
  {
   "cell_type": "code",
   "execution_count": 30,
   "metadata": {
    "collapsed": false
   },
   "outputs": [],
   "source": [
    "agent.ObjectiveFun = @(X, U, Y, agent) myObjective(Y, agent);"
   ]
  },
  {
   "cell_type": "markdown",
   "metadata": {},
   "source": [
    "Here, `myObjective` is again a custom function:"
   ]
  },
  {
   "cell_type": "raw",
   "metadata": {},
   "source": [
    "function J = myObjective(Y, agent)\n",
    "% Custom objective function\n",
    "\n",
    "% Minimize the length of the path by minimizing the distances of every two\n",
    "% consecutive points on the path:\n",
    "%   \\sum_{k=1}^{N} (y_k - y_{k-1})'*(y_k - y_{k-1})\n",
    "%\n",
    "% Note: try to keep the objective function quadratic and convex whenever\n",
    "% possible.\n",
    "J = 0;\n",
    "for k = 2:agent.N\n",
    "    dY = Y(:, k)-Y(:, k-1);\n",
    "    J = J + dY'*dY;\n",
    "end\n",
    "\n",
    "end"
   ]
  },
  {
   "cell_type": "markdown",
   "metadata": {},
   "source": [
    "## Obstacles"
   ]
  },
  {
   "cell_type": "markdown",
   "metadata": {},
   "source": [
    "We also consider three stationary obstacles:"
   ]
  },
  {
   "cell_type": "code",
   "execution_count": 31,
   "metadata": {
    "collapsed": true
   },
   "outputs": [],
   "source": [
    "nObstacles = 3;\n",
    "obstacles = moantool.Obstacle(agent, nObstacles);\n",
    "obstacles(1).Position.Value = [10; -4]; % center of the obstacle\n",
    "obstacles(1).Size.Value = [8; 4]; % width and height\n",
    "obstacles(1).Visible.Value = 1; % it's visible to the agent\n",
    "obstacles(2).Position.Value = [-0.5; -8];\n",
    "obstacles(2).Size.Value = [5; 12];\n",
    "obstacles(2).Visible.Value = 1;\n",
    "obstacles(3).Position.Value = [0; -0.6];\n",
    "obstacles(3).Size.Value = [8; 1];\n",
    "obstacles(3).Visible.Value = 1;"
   ]
  },
  {
   "cell_type": "markdown",
   "metadata": {},
   "source": [
    "## The planner"
   ]
  },
  {
   "cell_type": "markdown",
   "metadata": {},
   "source": [
    "Now we create a planner which will optimize the path. Due to the nonlinear speed constraints, the problem will be solved as a mixed-integer quadratically constrained quadratic program (MI-QCQP). Fortunately for us, the nonlinear constraints are at least convex."
   ]
  },
  {
   "cell_type": "markdown",
   "metadata": {},
   "source": [
    "We want the agent to keep at least one multiple of its size as a safety separation gap between itself and the obstacles. To do that, we set the `MinSeparation` property when calling the `Planner` constructor:"
   ]
  },
  {
   "cell_type": "raw",
   "metadata": {},
   "source": [
    "minsep = 1*agent.Size.Value;\n",
    "planner = moantool.Planner(agent, obstacles, 'solver', 'gurobi', 'MinSeparation', minsep);"
   ]
  },
  {
   "cell_type": "markdown",
   "metadata": {},
   "source": [
    "## The optimization"
   ]
  },
  {
   "cell_type": "markdown",
   "metadata": {},
   "source": [
    "Starting and desrired finishing points:"
   ]
  },
  {
   "cell_type": "code",
   "execution_count": 32,
   "metadata": {
    "collapsed": true
   },
   "outputs": [],
   "source": [
    "start = [10; -10];\n",
    "destination = [-5; -2];"
   ]
  },
  {
   "cell_type": "markdown",
   "metadata": {},
   "source": [
    "Assign values to planner's parameters. Here, we only heavily penalize the deviation of the final predicted position from the desired point and don't care about the intermediate points:"
   ]
  },
  {
   "cell_type": "code",
   "execution_count": 33,
   "metadata": {
    "collapsed": true
   },
   "outputs": [],
   "source": [
    "planner.Parameters.Agent.Y.Penalty = [repmat(zeros(ny), 1, N-1), 1e4*eye(ny)];\n",
    "planner.Parameters.Agent.Y.Reference = destination;"
   ]
  },
  {
   "cell_type": "markdown",
   "metadata": {},
   "source": [
    "Run the optimization:"
   ]
  },
  {
   "cell_type": "raw",
   "metadata": {},
   "source": [
    "[~, problem, results] = planner.optimize(start);"
   ]
  },
  {
   "cell_type": "markdown",
   "metadata": {},
   "source": [
    "Any issues?"
   ]
  },
  {
   "cell_type": "raw",
   "metadata": {},
   "source": [
    "if problem~=0\n",
    "    error(yalmiperror(problem));\n",
    "end"
   ]
  },
  {
   "cell_type": "markdown",
   "metadata": {},
   "source": [
    "If the problem is feasible, the optimal path is available in `results.Y`. Each column of that matrix represents one waypoint of the path. Just keep in mind that the optimization is performed point-wise, i.e., only the waypoints are guaranteed to avoid obstacles."
   ]
  },
  {
   "cell_type": "markdown",
   "metadata": {},
   "source": [
    "## Visualization"
   ]
  },
  {
   "cell_type": "raw",
   "metadata": {},
   "source": [
    "close all\n",
    "figure; hold on; grid on\n",
    "% Plot the obstacles\n",
    "for i = 1:length(obstacles)\n",
    "    moantool.utils.plotRectangle('Position', obstacles(i).Position.Value, ...\n",
    "        'Size', obstacles(i).Size.Value);\n",
    "end\n",
    "% Plot the optimize trajectory\n",
    "plot(results.Y(1, :), results.Y(2, :), 'marker', 'x');\n",
    "% Plot the starting and finishing point\n",
    "plot(start(1), start(2), 'rs', destination(1), destination(2), 'gs', 'markersize', 18);"
   ]
  },
  {
   "cell_type": "code",
   "execution_count": 3,
   "metadata": {
    "collapsed": false
   },
   "outputs": [
    {
     "name": "stdout",
     "output_type": "stream",
     "text": [
      "/Users/filip/Documents/Mercurial/bitbucket/moantool-orig/src/examples\n"
     ]
    },
    {
     "data": {
      "image/png": "[encoded data removed]",
      "text/plain": [
       "<IPython.core.display.Image object>"
      ]
     },
     "metadata": {},
     "output_type": "display_data"
    },
    {
     "name": "stdout",
     "output_type": "stream",
     "text": [
      "[\bWarning: Unknown parameter: 'PreMIQPMethod'\n",
      "]\b \n",
      "[\b> In callgurobi (line 13)\n",
      "  In optimizer/subsref (line 133)\n",
      "  In moantool.Planner/optimize (line 245)\n",
      "  In moan_demo8 (line 139)\n",
      "  In pymat_eval (line 31)\n",
      "  In matlabserver (line 24)]\b \n",
      "\n",
      "optpath =\n",
      "\n",
      "  Columns 1 through 7\n",
      "\n",
      "   10.0000    9.4062    8.8125    8.2187    7.6250    7.0312    6.4375\n",
      "  -10.0000   -9.5357   -9.0714   -8.6071   -8.1429   -7.6786   -7.2143\n",
      "\n",
      "  Columns 8 through 14\n",
      "\n",
      "    5.8437    5.2500    5.1786    5.1071    5.0357    4.9643    4.8929\n",
      "   -6.7500   -5.9278   -5.1056   -4.2833   -3.4611   -2.6389   -1.8167\n",
      "\n",
      "  Columns 15 through 21\n",
      "\n",
      "    4.8214    4.7500    3.9583    3.1667    2.3750    1.5833    0.7917\n",
      "   -0.9944   -0.1722    0.6500    0.6500    0.6500    0.6500    0.6500\n",
      "\n",
      "  Columns 22 through 28\n",
      "\n",
      "         0   -0.7917   -1.5833   -2.3750   -3.1667   -3.9583   -4.7500\n",
      "    0.6500    0.6500    0.6500    0.6500    0.6500    0.6500   -0.2333\n",
      "\n",
      "  Columns 29 through 30\n",
      "\n",
      "   -4.8750   -5.0000\n",
      "   -1.1166   -1.9999\n"
     ]
    }
   ],
   "source": [
    "%cd ~/Documents/Mercurial/bitbucket/moantool-orig/src/examples/\n",
    "%clear classes\n",
    "%format short\n",
    "optpath = moan_demo8\n",
    "axis([-7 15 -15 2])"
   ]
  },
  {
   "cell_type": "markdown",
   "metadata": {},
   "source": [
    "## Notes"
   ]
  },
  {
   "cell_type": "markdown",
   "metadata": {},
   "source": [
    " * prediction horizon must be fixed\n",
    " * starting location can be arbitrary\n",
    " * final location is fixed (but can be made parametric, contact me)\n",
    " * upper speed bound is fixed (but can be made parametric)\n",
    " * minimal separation gap is fixed"
   ]
  },
  {
   "cell_type": "markdown",
   "metadata": {},
   "source": []
  }
 ],
 "metadata": {
  "anaconda-cloud": {},
  "kernelspec": {
   "display_name": "Matlab",
   "language": "matlab",
   "name": "matlab"
  },
  "language_info": {
   "codemirror_mode": "octave",
   "file_extension": ".m",
   "help_links": [
    {
     "text": "MetaKernel Magics",
     "url": "https://github.com/calysto/metakernel/blob/master/metakernel/magics/README.md"
    }
   ],
   "mimetype": "text/x-octave",
   "name": "matlab",
   "version": "0.11.0"
  }
 },
 "nbformat": 4,
 "nbformat_minor": 0
}
